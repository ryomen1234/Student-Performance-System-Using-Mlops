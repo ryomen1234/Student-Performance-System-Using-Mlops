{
 "cells": [
  {
   "cell_type": "code",
   "execution_count": 3,
   "id": "33bdd905",
   "metadata": {},
   "outputs": [],
   "source": [
    "import pandas as pd\n",
    "import numpy as np\n",
    "\n",
    "from sklearn.linear_model import LinearRegression\n",
    "from sklearn.pipeline import Pipeline\n",
    "import optuna"
   ]
  },
  {
   "cell_type": "code",
   "execution_count": 4,
   "id": "56fe3de1",
   "metadata": {},
   "outputs": [
    {
     "data": {
      "text/html": [
       "<div>\n",
       "<style scoped>\n",
       "    .dataframe tbody tr th:only-of-type {\n",
       "        vertical-align: middle;\n",
       "    }\n",
       "\n",
       "    .dataframe tbody tr th {\n",
       "        vertical-align: top;\n",
       "    }\n",
       "\n",
       "    .dataframe thead th {\n",
       "        text-align: right;\n",
       "    }\n",
       "</style>\n",
       "<table border=\"1\" class=\"dataframe\">\n",
       "  <thead>\n",
       "    <tr style=\"text-align: right;\">\n",
       "      <th></th>\n",
       "      <th>StudentID</th>\n",
       "      <th>Age</th>\n",
       "      <th>Gender</th>\n",
       "      <th>Ethnicity</th>\n",
       "      <th>ParentalEducation</th>\n",
       "      <th>StudyTimeWeekly</th>\n",
       "      <th>Absences</th>\n",
       "      <th>Tutoring</th>\n",
       "      <th>ParentalSupport</th>\n",
       "      <th>Extracurricular</th>\n",
       "      <th>Sports</th>\n",
       "      <th>Music</th>\n",
       "      <th>Volunteering</th>\n",
       "      <th>GPA</th>\n",
       "      <th>GradeClass</th>\n",
       "    </tr>\n",
       "  </thead>\n",
       "  <tbody>\n",
       "    <tr>\n",
       "      <th>0</th>\n",
       "      <td>1001</td>\n",
       "      <td>17</td>\n",
       "      <td>1</td>\n",
       "      <td>0</td>\n",
       "      <td>2</td>\n",
       "      <td>19.833723</td>\n",
       "      <td>7</td>\n",
       "      <td>1</td>\n",
       "      <td>2</td>\n",
       "      <td>0</td>\n",
       "      <td>0</td>\n",
       "      <td>1</td>\n",
       "      <td>0</td>\n",
       "      <td>2.929196</td>\n",
       "      <td>2.0</td>\n",
       "    </tr>\n",
       "    <tr>\n",
       "      <th>1</th>\n",
       "      <td>1002</td>\n",
       "      <td>18</td>\n",
       "      <td>0</td>\n",
       "      <td>0</td>\n",
       "      <td>1</td>\n",
       "      <td>15.408756</td>\n",
       "      <td>0</td>\n",
       "      <td>0</td>\n",
       "      <td>1</td>\n",
       "      <td>0</td>\n",
       "      <td>0</td>\n",
       "      <td>0</td>\n",
       "      <td>0</td>\n",
       "      <td>3.042915</td>\n",
       "      <td>1.0</td>\n",
       "    </tr>\n",
       "    <tr>\n",
       "      <th>2</th>\n",
       "      <td>1003</td>\n",
       "      <td>15</td>\n",
       "      <td>0</td>\n",
       "      <td>2</td>\n",
       "      <td>3</td>\n",
       "      <td>4.210570</td>\n",
       "      <td>26</td>\n",
       "      <td>0</td>\n",
       "      <td>2</td>\n",
       "      <td>0</td>\n",
       "      <td>0</td>\n",
       "      <td>0</td>\n",
       "      <td>0</td>\n",
       "      <td>0.112602</td>\n",
       "      <td>4.0</td>\n",
       "    </tr>\n",
       "    <tr>\n",
       "      <th>3</th>\n",
       "      <td>1004</td>\n",
       "      <td>17</td>\n",
       "      <td>1</td>\n",
       "      <td>0</td>\n",
       "      <td>3</td>\n",
       "      <td>10.028829</td>\n",
       "      <td>14</td>\n",
       "      <td>0</td>\n",
       "      <td>3</td>\n",
       "      <td>1</td>\n",
       "      <td>0</td>\n",
       "      <td>0</td>\n",
       "      <td>0</td>\n",
       "      <td>2.054218</td>\n",
       "      <td>3.0</td>\n",
       "    </tr>\n",
       "    <tr>\n",
       "      <th>4</th>\n",
       "      <td>1005</td>\n",
       "      <td>17</td>\n",
       "      <td>1</td>\n",
       "      <td>0</td>\n",
       "      <td>2</td>\n",
       "      <td>4.672495</td>\n",
       "      <td>17</td>\n",
       "      <td>1</td>\n",
       "      <td>3</td>\n",
       "      <td>0</td>\n",
       "      <td>0</td>\n",
       "      <td>0</td>\n",
       "      <td>0</td>\n",
       "      <td>1.288061</td>\n",
       "      <td>4.0</td>\n",
       "    </tr>\n",
       "  </tbody>\n",
       "</table>\n",
       "</div>"
      ],
      "text/plain": [
       "   StudentID  Age  Gender  Ethnicity  ParentalEducation  StudyTimeWeekly  \\\n",
       "0       1001   17       1          0                  2        19.833723   \n",
       "1       1002   18       0          0                  1        15.408756   \n",
       "2       1003   15       0          2                  3         4.210570   \n",
       "3       1004   17       1          0                  3        10.028829   \n",
       "4       1005   17       1          0                  2         4.672495   \n",
       "\n",
       "   Absences  Tutoring  ParentalSupport  Extracurricular  Sports  Music  \\\n",
       "0         7         1                2                0       0      1   \n",
       "1         0         0                1                0       0      0   \n",
       "2        26         0                2                0       0      0   \n",
       "3        14         0                3                1       0      0   \n",
       "4        17         1                3                0       0      0   \n",
       "\n",
       "   Volunteering       GPA  GradeClass  \n",
       "0             0  2.929196         2.0  \n",
       "1             0  3.042915         1.0  \n",
       "2             0  0.112602         4.0  \n",
       "3             0  2.054218         3.0  \n",
       "4             0  1.288061         4.0  "
      ]
     },
     "execution_count": 4,
     "metadata": {},
     "output_type": "execute_result"
    }
   ],
   "source": [
    "data = pd.read_csv(r\"E:\\project\\Student-Performance-System-Using-Mlops\\notebooks\\archive\\Student_performance_data _.csv\")\n",
    "data.head()"
   ]
  },
  {
   "cell_type": "code",
   "execution_count": 5,
   "id": "3336f4b6",
   "metadata": {},
   "outputs": [
    {
     "name": "stdout",
     "output_type": "stream",
     "text": [
      "After data split into training and testing.\n",
      "x_train: (1674, 13), x_test: (718, 13)\n",
      "y_train: (1674,), y_test: (718,)\n"
     ]
    }
   ],
   "source": [
    "# split into train and test\n",
    "from sklearn.model_selection import train_test_split\n",
    "x_train, x_test, y_train, y_test =  train_test_split(data.drop(columns=['GPA', 'GradeClass']), \n",
    "                                                      data['GPA'], test_size=0.3, random_state = 42)\n",
    "\n",
    "print(f\"After data split into training and testing.\\nx_train: {x_train.shape}, x_test: {x_test.shape}\\ny_train: {y_train.shape}, y_test: {y_test.shape}\")"
   ]
  },
  {
   "cell_type": "code",
   "execution_count": 6,
   "id": "74f9237e",
   "metadata": {},
   "outputs": [],
   "source": [
    "from typing import List\n",
    "\n",
    "def drop_col(data: pd.DataFrame, col_to_drop: List) -> pd.DataFrame:\n",
    "    \"\"\"\n",
    "    this function drops the columns from data.\n",
    "\n",
    "    args:\n",
    "    data = pandas dataframe.\n",
    "    col_to_drop = list of columns to drop.\n",
    "\n",
    "    return:\n",
    "    return thedataframe .\n",
    "    \"\"\"\n",
    "    data = data.drop(columns=col_to_drop)\n",
    "\n",
    "    return data"
   ]
  },
  {
   "cell_type": "code",
   "execution_count": 7,
   "id": "f9f9a51e",
   "metadata": {},
   "outputs": [
    {
     "name": "stdout",
     "output_type": "stream",
     "text": [
      "useless columns removed from test and train.\n",
      "x_train: (1674, 8), x_test: (718, 8)\n"
     ]
    }
   ],
   "source": [
    "\n",
    "col = ['StudentID', 'ParentalEducation', 'Ethnicity', 'Gender', 'Volunteering']\n",
    "x_train = drop_col(x_train, col)\n",
    "x_test = drop_col(x_test, col)\n",
    "\n",
    "print(f\"useless columns removed from test and train.\")\n",
    "print(f\"x_train: {x_train.shape}, x_test: {x_test.shape}\")"
   ]
  },
  {
   "cell_type": "code",
   "execution_count": 8,
   "id": "a6a013b1",
   "metadata": {},
   "outputs": [
    {
     "data": {
      "text/html": [
       "<div>\n",
       "<style scoped>\n",
       "    .dataframe tbody tr th:only-of-type {\n",
       "        vertical-align: middle;\n",
       "    }\n",
       "\n",
       "    .dataframe tbody tr th {\n",
       "        vertical-align: top;\n",
       "    }\n",
       "\n",
       "    .dataframe thead th {\n",
       "        text-align: right;\n",
       "    }\n",
       "</style>\n",
       "<table border=\"1\" class=\"dataframe\">\n",
       "  <thead>\n",
       "    <tr style=\"text-align: right;\">\n",
       "      <th></th>\n",
       "      <th>Age</th>\n",
       "      <th>StudyTimeWeekly</th>\n",
       "      <th>Absences</th>\n",
       "      <th>Tutoring</th>\n",
       "      <th>ParentalSupport</th>\n",
       "      <th>Extracurricular</th>\n",
       "      <th>Sports</th>\n",
       "      <th>Music</th>\n",
       "    </tr>\n",
       "  </thead>\n",
       "  <tbody>\n",
       "    <tr>\n",
       "      <th>380</th>\n",
       "      <td>18</td>\n",
       "      <td>3.772645</td>\n",
       "      <td>7</td>\n",
       "      <td>0</td>\n",
       "      <td>2</td>\n",
       "      <td>1</td>\n",
       "      <td>1</td>\n",
       "      <td>0</td>\n",
       "    </tr>\n",
       "    <tr>\n",
       "      <th>226</th>\n",
       "      <td>15</td>\n",
       "      <td>11.448155</td>\n",
       "      <td>19</td>\n",
       "      <td>0</td>\n",
       "      <td>2</td>\n",
       "      <td>0</td>\n",
       "      <td>0</td>\n",
       "      <td>0</td>\n",
       "    </tr>\n",
       "    <tr>\n",
       "      <th>1075</th>\n",
       "      <td>15</td>\n",
       "      <td>19.570119</td>\n",
       "      <td>13</td>\n",
       "      <td>0</td>\n",
       "      <td>1</td>\n",
       "      <td>0</td>\n",
       "      <td>0</td>\n",
       "      <td>0</td>\n",
       "    </tr>\n",
       "    <tr>\n",
       "      <th>715</th>\n",
       "      <td>18</td>\n",
       "      <td>10.071401</td>\n",
       "      <td>20</td>\n",
       "      <td>0</td>\n",
       "      <td>4</td>\n",
       "      <td>0</td>\n",
       "      <td>0</td>\n",
       "      <td>0</td>\n",
       "    </tr>\n",
       "    <tr>\n",
       "      <th>1822</th>\n",
       "      <td>18</td>\n",
       "      <td>2.158491</td>\n",
       "      <td>29</td>\n",
       "      <td>1</td>\n",
       "      <td>3</td>\n",
       "      <td>1</td>\n",
       "      <td>1</td>\n",
       "      <td>1</td>\n",
       "    </tr>\n",
       "  </tbody>\n",
       "</table>\n",
       "</div>"
      ],
      "text/plain": [
       "      Age  StudyTimeWeekly  Absences  Tutoring  ParentalSupport  \\\n",
       "380    18         3.772645         7         0                2   \n",
       "226    15        11.448155        19         0                2   \n",
       "1075   15        19.570119        13         0                1   \n",
       "715    18        10.071401        20         0                4   \n",
       "1822   18         2.158491        29         1                3   \n",
       "\n",
       "      Extracurricular  Sports  Music  \n",
       "380                 1       1      0  \n",
       "226                 0       0      0  \n",
       "1075                0       0      0  \n",
       "715                 0       0      0  \n",
       "1822                1       1      1  "
      ]
     },
     "execution_count": 8,
     "metadata": {},
     "output_type": "execute_result"
    }
   ],
   "source": [
    "x_train.head()"
   ]
  },
  {
   "cell_type": "code",
   "execution_count": 9,
   "id": "0826e3ee",
   "metadata": {},
   "outputs": [
    {
     "data": {
      "text/plain": [
       "380     2.525116\n",
       "226     0.881866\n",
       "1075    2.096645\n",
       "715     1.321427\n",
       "1822    0.992297\n",
       "Name: GPA, dtype: float64"
      ]
     },
     "execution_count": 9,
     "metadata": {},
     "output_type": "execute_result"
    }
   ],
   "source": [
    "y_train.head()"
   ]
  },
  {
   "cell_type": "code",
   "execution_count": 10,
   "id": "af7ba658",
   "metadata": {},
   "outputs": [],
   "source": [
    "# convert into numpy array.\n",
    "def to_numpy(data: pd.DataFrame) -> np.ndarray:\n",
    "    \"\"\"\n",
    "    this method convert pandas dataframe to numpy array.\n",
    "\n",
    "    args:\n",
    "    data = dataframe\n",
    "\n",
    "    returns:\n",
    "    numpy array of data.\n",
    "    \"\"\"\n",
    "\n",
    "    data = data.values\n",
    "\n",
    "    return data"
   ]
  },
  {
   "cell_type": "code",
   "execution_count": 11,
   "id": "4ca072a8",
   "metadata": {},
   "outputs": [
    {
     "name": "stdout",
     "output_type": "stream",
     "text": [
      "converted to numpy array\n"
     ]
    }
   ],
   "source": [
    "x_train = to_numpy(x_train)\n",
    "x_test = to_numpy(x_test)\n",
    "y_train = to_numpy(y_train)\n",
    "y_test = to_numpy(y_test)\n",
    "print(f\"converted to numpy array\")"
   ]
  },
  {
   "cell_type": "code",
   "execution_count": 13,
   "id": "b594c73f",
   "metadata": {},
   "outputs": [
    {
     "name": "stdout",
     "output_type": "stream",
     "text": [
      "data split into features and labels:\n",
      "X: (2392, 13), y: (2392,)\n"
     ]
    }
   ],
   "source": [
    "X, y = data.drop(columns=['GPA', 'GradeClass']), data['GPA']\n",
    "print(f\"data split into features and labels:\\nX: {X.shape}, y: {y.shape}\")"
   ]
  },
  {
   "cell_type": "code",
   "execution_count": 14,
   "id": "4c6a48c3",
   "metadata": {},
   "outputs": [
    {
     "name": "stdout",
     "output_type": "stream",
     "text": [
      "data type: X: float64, y: float64\n"
     ]
    }
   ],
   "source": [
    "X = X.values\n",
    "y = y.values\n",
    "print(f\"data type: X: {X.dtype}, y: {y.dtype}\")"
   ]
  },
  {
   "cell_type": "code",
   "execution_count": 16,
   "id": "b12e215c",
   "metadata": {},
   "outputs": [
    {
     "data": {
      "text/plain": [
       "array([2.92919559, 3.04291483, 0.11260225, ..., 1.14233288, 1.80329676,\n",
       "       2.14001388])"
      ]
     },
     "execution_count": 16,
     "metadata": {},
     "output_type": "execute_result"
    }
   ],
   "source": [
    "y"
   ]
  },
  {
   "cell_type": "markdown",
   "id": "97efd20f",
   "metadata": {},
   "source": [
    "SIMPLE LINEAR REGRESSION MODEL."
   ]
  },
  {
   "cell_type": "code",
   "execution_count": 20,
   "id": "fab023e7",
   "metadata": {},
   "outputs": [
    {
     "name": "stdout",
     "output_type": "stream",
     "text": [
      "Model: LinearRegression\n",
      "Training MAE: 0.158\n",
      "Cross-validation MAE: 0.159\n"
     ]
    }
   ],
   "source": [
    "from sklearn.metrics import mean_absolute_error\n",
    "from sklearn.model_selection import KFold, cross_val_score\n",
    "\n",
    "model_0 = LinearRegression()\n",
    "\n",
    "model_0.fit(X, y)\n",
    "train_pred = model_0.predict(X)\n",
    "training_acc = mean_absolute_error(train_pred, y)\n",
    "\n",
    "cv = KFold(n_splits=3, shuffle=True, random_state=42)\n",
    "\n",
    "scores = cross_val_score(model_0, X, y, cv=cv, scoring=\"neg_mean_absolute_error\")\n",
    "\n",
    "print(f\"Model: {model_0.__class__.__name__}\")\n",
    "print(f\"Training MAE: {training_acc:.3f}\")\n",
    "print(f\"Cross-validation MAE: {-scores.mean():.3f}\")"
   ]
  },
  {
   "cell_type": "code",
   "execution_count": 24,
   "id": "22d0938a",
   "metadata": {},
   "outputs": [
    {
     "data": {
      "text/plain": [
       "[{'Model': 'LinearRegression',\n",
       "  'Training MAE': 0.15807381305079082,\n",
       "  'Cross-validation MAE': 0.1676246868000685}]"
      ]
     },
     "execution_count": 24,
     "metadata": {},
     "output_type": "execute_result"
    }
   ],
   "source": [
    "results = []\n",
    "results.append({\"Model\": model_0.__class__.__name__, \"Training MAE\": training_acc, \"Cross-validation MAE\": -scores.mean().item()}\n",
    ")\n",
    "results"
   ]
  },
  {
   "cell_type": "code",
   "execution_count": 23,
   "id": "4e89bf8f",
   "metadata": {},
   "outputs": [
    {
     "name": "stdout",
     "output_type": "stream",
     "text": [
      "Model: GradientBoostingRegressor\n",
      "Training MAE: 0.158\n",
      "Cross-validation MAE: 0.168\n"
     ]
    }
   ],
   "source": [
    "from sklearn.ensemble import GradientBoostingRegressor\n",
    "from sklearn.model_selection import KFold, cross_val_score\n",
    "from sklearn.metrics import mean_absolute_error\n",
    "\n",
    "model_1 = GradientBoostingRegressor()\n",
    "\n",
    "model_1.fit(X, y)\n",
    "train_pred = model_1.predict(X)\n",
    "train_acc = mean_absolute_error(y, train_pred)\n",
    "\n",
    "cv = KFold(n_splits=3, shuffle=True, random_state=42)\n",
    "\n",
    "scores = cross_val_score(model_1, X, y, cv=cv, scoring=\"neg_mean_absolute_error\")\n",
    "\n",
    "\n",
    "print(f\"Model: {model_1.__class__.__name__}\")\n",
    "print(f\"Training MAE: {training_acc:.3f}\")\n",
    "print(f\"Cross-validation MAE: {-scores.mean():.3f}\")"
   ]
  },
  {
   "cell_type": "code",
   "execution_count": 25,
   "id": "d127a8a7",
   "metadata": {},
   "outputs": [
    {
     "data": {
      "text/plain": [
       "[{'Model': 'LinearRegression',\n",
       "  'Training MAE': 0.15807381305079082,\n",
       "  'Cross-validation MAE': 0.1676246868000685},\n",
       " {'Model': 'GradientBoostingRegressor',\n",
       "  'Training MAE': 0.1434465870288238,\n",
       "  'Cross-validation MAE': 0.1676246868000685}]"
      ]
     },
     "execution_count": 25,
     "metadata": {},
     "output_type": "execute_result"
    }
   ],
   "source": [
    "results.append({\"Model\": model_1.__class__.__name__, \n",
    "                \"Training MAE\": train_acc,\n",
    "                 \"Cross-validation MAE\": -scores.mean().item()})\n",
    "\n",
    "results"
   ]
  },
  {
   "cell_type": "code",
   "execution_count": 26,
   "id": "197b3e76",
   "metadata": {},
   "outputs": [],
   "source": [
    "import optuna\n",
    "from sklearn.ensemble import GradientBoostingRegressor\n",
    "from sklearn.metrics import mean_absolute_error\n",
    "\n",
    "def objective(trial):\n",
    "\n",
    "    params = {\n",
    "          \"learning_rate\": trial.suggest_float(\"learning_rate\", 0.01, 0.4, log=True),\n",
    "          \"n_estimators\": trial.suggest_int(\"n_estimators\", 100, 300, step=50),\n",
    "          \"max_depth\": trial.suggest_int(\"max_depth\", 1, 5),\n",
    "          \"subsample\": trial.suggest_float(\"subsample\", 0.3, 1.0)\n",
    "    }\n",
    "\n",
    "    model = GradientBoostingRegressor(**params)\n",
    "\n",
    "    model.fit(X, y)\n",
    "    y_pred = model.predict(X)\n",
    "\n",
    "    acc = mean_absolute_error(y, y_pred)\n",
    "\n",
    "    return acc"
   ]
  },
  {
   "cell_type": "code",
   "execution_count": 27,
   "id": "36f41eff",
   "metadata": {},
   "outputs": [
    {
     "name": "stderr",
     "output_type": "stream",
     "text": [
      "[I 2025-10-10 17:59:08,230] A new study created in memory with name: no-name-53c89655-c6cb-4a93-9b8d-899034646adb\n",
      "[I 2025-10-10 17:59:09,245] Trial 0 finished with value: 0.157348694895044 and parameters: {'learning_rate': 0.09087020253619815, 'n_estimators': 300, 'max_depth': 1, 'subsample': 0.4721218730101114}. Best is trial 0 with value: 0.157348694895044.\n",
      "[I 2025-10-10 17:59:09,906] Trial 1 finished with value: 0.1925613918948993 and parameters: {'learning_rate': 0.01598062512496541, 'n_estimators': 300, 'max_depth': 2, 'subsample': 0.31614886148066534}. Best is trial 0 with value: 0.157348694895044.\n",
      "[I 2025-10-10 17:59:10,380] Trial 2 finished with value: 0.14732126059032466 and parameters: {'learning_rate': 0.17104890879633916, 'n_estimators': 150, 'max_depth': 2, 'subsample': 0.4910650363617779}. Best is trial 2 with value: 0.14732126059032466.\n",
      "[I 2025-10-10 17:59:10,990] Trial 3 finished with value: 0.21470280206259135 and parameters: {'learning_rate': 0.030885561990080003, 'n_estimators': 250, 'max_depth': 1, 'subsample': 0.7175488532240302}. Best is trial 2 with value: 0.14732126059032466.\n",
      "[I 2025-10-10 17:59:11,671] Trial 4 finished with value: 0.2785964544667719 and parameters: {'learning_rate': 0.010745753837135429, 'n_estimators': 200, 'max_depth': 2, 'subsample': 0.43062328619739143}. Best is trial 2 with value: 0.14732126059032466.\n"
     ]
    }
   ],
   "source": [
    "study = optuna.create_study(direction=\"minimize\")\n",
    "study.optimize(objective, n_trials=5)"
   ]
  },
  {
   "cell_type": "code",
   "execution_count": 28,
   "id": "f2ff5b8d",
   "metadata": {},
   "outputs": [
    {
     "name": "stdout",
     "output_type": "stream",
     "text": [
      "Best MAE: 0.14732126059032466\n",
      "Best parameters: {'learning_rate': 0.17104890879633916, 'n_estimators': 150, 'max_depth': 2, 'subsample': 0.4910650363617779}\n"
     ]
    }
   ],
   "source": [
    "# Best hyperparameters\n",
    "print(\"Best MAE:\", study.best_value)\n",
    "print(\"Best parameters:\", study.best_params)"
   ]
  },
  {
   "cell_type": "code",
   "execution_count": 29,
   "id": "222efd4b",
   "metadata": {},
   "outputs": [
    {
     "data": {
      "text/plain": [
       "{'learning_rate': 0.17104890879633916,\n",
       " 'n_estimators': 150,\n",
       " 'max_depth': 2,\n",
       " 'subsample': 0.4910650363617779}"
      ]
     },
     "execution_count": 29,
     "metadata": {},
     "output_type": "execute_result"
    }
   ],
   "source": [
    "best_param = study.best_params\n",
    "best_param"
   ]
  },
  {
   "cell_type": "code",
   "execution_count": 32,
   "id": "b3ce4958",
   "metadata": {},
   "outputs": [],
   "source": [
    "import yaml\n",
    "\n",
    "path = r\"E:\\project\\Student-Performance-System-Using-Mlops\\config.yaml\"\n",
    "with open(path, \"r\") as f:\n",
    "    config = yaml.safe_load(f)\n",
    "\n",
    "config[\"parameter\"] = best_param\n",
    "\n",
    "with open(path, \"w\") as f:\n",
    "    yaml.dump(config, f)"
   ]
  },
  {
   "cell_type": "code",
   "execution_count": null,
   "id": "9986cce7",
   "metadata": {},
   "outputs": [],
   "source": []
  }
 ],
 "metadata": {
  "kernelspec": {
   "display_name": "myenv (3.12.10)",
   "language": "python",
   "name": "python3"
  },
  "language_info": {
   "codemirror_mode": {
    "name": "ipython",
    "version": 3
   },
   "file_extension": ".py",
   "mimetype": "text/x-python",
   "name": "python",
   "nbconvert_exporter": "python",
   "pygments_lexer": "ipython3",
   "version": "3.12.10"
  }
 },
 "nbformat": 4,
 "nbformat_minor": 5
}
